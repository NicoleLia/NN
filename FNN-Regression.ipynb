{
 "cells": [
  {
   "cell_type": "code",
   "execution_count": 2,
   "id": "40a86fc8",
   "metadata": {},
   "outputs": [
    {
     "data": {
      "text/plain": [
       "(500, (tensor([0.3675, 0.7272]), tensor([0.2672])))"
      ]
     },
     "execution_count": 2,
     "metadata": {},
     "output_type": "execute_result"
    }
   ],
   "source": [
    "def get_rectangle():\n",
    "    import random\n",
    "    width = random.random()\n",
    "    height = random.random()\n",
    "    s = width * height\n",
    "    return width, height, s\n",
    "\n",
    "\n",
    "import torch\n",
    "from torch.utils.data import Dataset\n",
    "\n",
    "class Dataset(Dataset):\n",
    "    def __inti__(self):\n",
    "        pass\n",
    "    def __len__(self):\n",
    "        return 500\n",
    "    def __getitem__(self, i):\n",
    "        width, heigth, s = get_rectangle()\n",
    "        x = torch.FloatTensor([width, heigth])\n",
    "        y = torch.FloatTensor([s])\n",
    "        return x,y\n",
    "    \n",
    "dataset = Dataset()\n",
    "len(dataset), dataset[0]"
   ]
  },
  {
   "cell_type": "code",
   "execution_count": 3,
   "id": "d40a766c",
   "metadata": {},
   "outputs": [
    {
     "data": {
      "text/plain": [
       "(62,\n",
       " [tensor([[0.8054, 0.8959],\n",
       "          [0.7928, 0.0778],\n",
       "          [0.3623, 0.6957],\n",
       "          [0.5721, 0.1418],\n",
       "          [0.3343, 0.7277],\n",
       "          [0.7391, 0.3911],\n",
       "          [0.8034, 0.5106],\n",
       "          [0.9479, 0.6103]]),\n",
       "  tensor([[0.7216],\n",
       "          [0.0616],\n",
       "          [0.2521],\n",
       "          [0.0811],\n",
       "          [0.2433],\n",
       "          [0.2890],\n",
       "          [0.4102],\n",
       "          [0.5785]])])"
      ]
     },
     "execution_count": 3,
     "metadata": {},
     "output_type": "execute_result"
    }
   ],
   "source": [
    "import torch.utils.data as DataLoader\n",
    "loader = torch.utils.data.DataLoader(dataset=dataset,\n",
    "                   batch_size=8,\n",
    "                   shuffle=True,\n",
    "                   drop_last=True)\n",
    "len(loader), next(iter(loader))"
   ]
  },
  {
   "cell_type": "code",
   "execution_count": 5,
   "id": "1ef9317b",
   "metadata": {},
   "outputs": [
    {
     "data": {
      "text/plain": [
       "torch.Size([8, 1])"
      ]
     },
     "execution_count": 5,
     "metadata": {},
     "output_type": "execute_result"
    }
   ],
   "source": [
    "import torch.nn as nn\n",
    "class Model(nn.Module):\n",
    "    def __init__(self):\n",
    "        super().__init__()\n",
    "        \n",
    "        self.fc = nn.Sequential(\n",
    "            nn.Linear(in_features=2, out_features=32),\n",
    "            nn.ReLU(),\n",
    "            nn.Linear(in_features=32, out_features=32),\n",
    "            nn.ReLU(),\n",
    "            nn.Linear(in_features=32, out_features=1),\n",
    "        )\n",
    "        \n",
    "    def forward(self, x):\n",
    "        return self.fc(x)\n",
    "\n",
    "model = Model()\n",
    "model(torch.randn(8, 2)).shape"
   ]
  },
  {
   "cell_type": "code",
   "execution_count": 6,
   "id": "2bc3a124",
   "metadata": {},
   "outputs": [
    {
     "name": "stdout",
     "output_type": "stream",
     "text": [
      "0 0.20566433668136597 0.0\n",
      "20 0.005308072082698345 0.0\n",
      "40 0.0024461376015096903 0.0\n",
      "60 0.00028682907577604055 0.0\n",
      "80 0.00047074086614884436 0.0\n"
     ]
    }
   ],
   "source": [
    "def train():\n",
    "    optimizer = torch.optim.Adam(model.parameters(), lr=1e-4)\n",
    "    \n",
    "    loss_fun = nn.MSELoss()\n",
    "    \n",
    "    model.train()\n",
    "    \n",
    "    for epoch in range(100):\n",
    "        for i, (x, y) in enumerate(loader):\n",
    "            out = model(x)\n",
    "            \n",
    "            loss = loss_fun(out, y)\n",
    "            loss.backward()\n",
    "            optimizer.step()\n",
    "            optimizer.zero_grad()\n",
    "        if epoch % 20 == 0:\n",
    "            acc = (out.argmax(dim=1) == y).sum().item() / len(y)\n",
    "            print(epoch, loss.item(), acc)\n",
    "        \n",
    "    torch.save(model, 'model/2.model')\n",
    "\n",
    "train()"
   ]
  },
  {
   "cell_type": "code",
   "execution_count": 7,
   "id": "7b256b13",
   "metadata": {},
   "outputs": [
    {
     "name": "stdout",
     "output_type": "stream",
     "text": [
      "tensor([[0.2438, 0.2382],\n",
      "        [0.0285, 0.0072],\n",
      "        [0.5755, 0.5697],\n",
      "        [0.1177, 0.1224],\n",
      "        [0.4022, 0.3909],\n",
      "        [0.3619, 0.3574],\n",
      "        [0.3435, 0.3348],\n",
      "        [0.4313, 0.4335]])\n"
     ]
    }
   ],
   "source": [
    "@torch.no_grad()\n",
    "def test():\n",
    "    model = torch.load('model/2.model')\n",
    "    model.eval()\n",
    "    x, y = next(iter(loader))\n",
    "    out = model(x)\n",
    "    print(torch.cat([out, y], dim=1))\n",
    "test()"
   ]
  },
  {
   "cell_type": "code",
   "execution_count": null,
   "id": "62535931",
   "metadata": {},
   "outputs": [],
   "source": []
  }
 ],
 "metadata": {
  "kernelspec": {
   "display_name": "Python 3 (ipykernel)",
   "language": "python",
   "name": "python3"
  },
  "language_info": {
   "codemirror_mode": {
    "name": "ipython",
    "version": 3
   },
   "file_extension": ".py",
   "mimetype": "text/x-python",
   "name": "python",
   "nbconvert_exporter": "python",
   "pygments_lexer": "ipython3",
   "version": "3.11.5"
  }
 },
 "nbformat": 4,
 "nbformat_minor": 5
}
