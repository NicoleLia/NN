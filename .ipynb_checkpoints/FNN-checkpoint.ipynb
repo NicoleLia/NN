{
 "cells": [
  {
   "cell_type": "code",
   "execution_count": 4,
   "id": "9e47e279",
   "metadata": {},
   "outputs": [
    {
     "data": {
      "text/plain": [
       "(500, (tensor([0.1275, 0.3408]), 0))"
      ]
     },
     "execution_count": 4,
     "metadata": {},
     "output_type": "execute_result"
    }
   ],
   "source": [
    "def get_rectangle():\n",
    "    import random\n",
    "    width = random.random()\n",
    "    height = random.random()\n",
    "    fat = int(width >= height)\n",
    "    return width, height, fat\n",
    "\n",
    "import torch\n",
    "from torch.utils.data import Dataset\n",
    "\n",
    "class Dataset(Dataset):\n",
    "    def __inti__(self):\n",
    "        pass\n",
    "    def __len__(self):\n",
    "        return 500\n",
    "    def __getitem__(self, i):\n",
    "        width, heigth, fat = get_rectangle()\n",
    "        x = torch.FloatTensor([width, heigth])\n",
    "        y = fat\n",
    "        return x,y\n",
    "    \n",
    "dataset = Dataset()\n",
    "len(dataset), dataset[0]"
   ]
  },
  {
   "cell_type": "code",
   "execution_count": 13,
   "id": "928d1451",
   "metadata": {},
   "outputs": [
    {
     "data": {
      "text/plain": [
       "(62,\n",
       " [tensor([[0.1183, 0.7285],\n",
       "          [0.3232, 0.5363],\n",
       "          [0.0819, 0.2085],\n",
       "          [0.5961, 0.5661],\n",
       "          [0.3091, 0.7646],\n",
       "          [0.4269, 0.1226],\n",
       "          [0.1948, 0.1928],\n",
       "          [0.2074, 0.2608]]),\n",
       "  tensor([0, 0, 0, 1, 0, 1, 1, 0])])"
      ]
     },
     "execution_count": 13,
     "metadata": {},
     "output_type": "execute_result"
    }
   ],
   "source": [
    "import torch.utils.data as DataLoader\n",
    "loader = torch.utils.data.DataLoader(dataset=dataset,\n",
    "                   batch_size=8,\n",
    "                   shuffle=True,\n",
    "                   drop_last=True)\n",
    "len(loader), next(iter(loader))"
   ]
  },
  {
   "cell_type": "code",
   "execution_count": 23,
   "id": "d568a563",
   "metadata": {},
   "outputs": [
    {
     "data": {
      "text/plain": [
       "tensor([[0.5285, 0.4715],\n",
       "        [0.5494, 0.4506],\n",
       "        [0.4687, 0.5313],\n",
       "        [0.5079, 0.4921],\n",
       "        [0.5787, 0.4213],\n",
       "        [0.5777, 0.4223],\n",
       "        [0.5284, 0.4716],\n",
       "        [0.5417, 0.4583]], grad_fn=<SoftmaxBackward0>)"
      ]
     },
     "execution_count": 23,
     "metadata": {},
     "output_type": "execute_result"
    }
   ],
   "source": [
    "import torch.nn as nn\n",
    "class Model(nn.Module):\n",
    "    def __init__(self):\n",
    "        super().__init__()\n",
    "        \n",
    "        self.fc = nn.Sequential(\n",
    "            nn.Linear(in_features=2, out_features=32),\n",
    "            nn.ReLU(),\n",
    "            nn.Linear(in_features=32, out_features=32),\n",
    "            nn.ReLU(),\n",
    "            nn.Linear(in_features=32, out_features=2),\n",
    "            nn.Softmax(dim=1),\n",
    "        )\n",
    "        \n",
    "    def forward(self, x):\n",
    "        return self.fc(x)\n",
    "\n",
    "model = Model()\n",
    "model(torch.randn(8, 2)).shape\n",
    "model(torch.randn(8, 2))"
   ]
  },
  {
   "cell_type": "code",
   "execution_count": 24,
   "id": "7db3f884",
   "metadata": {},
   "outputs": [
    {
     "ename": "ModuleNotFoundError",
     "evalue": "No module named 'torch.optim.Adam'",
     "output_type": "error",
     "traceback": [
      "\u001b[0;31m---------------------------------------------------------------------------\u001b[0m",
      "\u001b[0;31mModuleNotFoundError\u001b[0m                       Traceback (most recent call last)",
      "Cell \u001b[0;32mIn[24], line 1\u001b[0m\n\u001b[0;32m----> 1\u001b[0m \u001b[38;5;28;01mimport\u001b[39;00m \u001b[38;5;21;01mtorch\u001b[39;00m\u001b[38;5;21;01m.\u001b[39;00m\u001b[38;5;21;01moptim\u001b[39;00m\u001b[38;5;21;01m.\u001b[39;00m\u001b[38;5;21;01mAdam\u001b[39;00m \u001b[38;5;28;01mas\u001b[39;00m \u001b[38;5;21;01mAdam\u001b[39;00m\n",
      "\u001b[0;31mModuleNotFoundError\u001b[0m: No module named 'torch.optim.Adam'"
     ]
    }
   ],
   "source": [
    "def train():\n",
    "    optimizer = torch.optim.Adam(model.parameters(), lr=1e-4)\n",
    "    \n",
    "    loss_fun = nn.CrossEntropyLoss()\n",
    "    \n",
    "    model.train()\n",
    "    \n",
    "    for epoch in range(100):\n",
    "        for i, (x, y) in enumerate(loader):\n",
    "            out = model(x)\n",
    "            \n",
    "            loss = loss_fun(out, y)\n",
    "            loss.backward()\n",
    "            optimizer.step()\n",
    "            optimizer.zero_grad()\n",
    "        if epoch % 20 == 0:\n",
    "            acc = (out.argmax(dim=1) == y).sum().item() / len(y)\n",
    "            print(epoch, loss.item(), acc)\n",
    "\n",
    "train()"
   ]
  },
  {
   "cell_type": "code",
   "execution_count": null,
   "id": "3080d9df",
   "metadata": {},
   "outputs": [],
   "source": []
  }
 ],
 "metadata": {
  "kernelspec": {
   "display_name": "Python 3 (ipykernel)",
   "language": "python",
   "name": "python3"
  },
  "language_info": {
   "codemirror_mode": {
    "name": "ipython",
    "version": 3
   },
   "file_extension": ".py",
   "mimetype": "text/x-python",
   "name": "python",
   "nbconvert_exporter": "python",
   "pygments_lexer": "ipython3",
   "version": "3.11.5"
  }
 },
 "nbformat": 4,
 "nbformat_minor": 5
}
