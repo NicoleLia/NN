{
 "cells": [
  {
   "cell_type": "code",
   "execution_count": 2,
   "id": "0744fa1d",
   "metadata": {},
   "outputs": [
    {
     "data": {
      "text/plain": [
       "(60000, 60000, torch.Size([3, 32, 32]), 6)"
      ]
     },
     "execution_count": 2,
     "metadata": {},
     "output_type": "execute_result"
    }
   ],
   "source": [
    "import torch\n",
    "\n",
    "def load_data():\n",
    "    import PIL.Image\n",
    "    import numpy as np\n",
    "    import os\n",
    "    \n",
    "    xs = []\n",
    "    ys = []\n",
    "    \n",
    "    for filename in os.listdir('data/cifar10'):\n",
    "        if not filename.endswith('.jpg'):\n",
    "            continue\n",
    "        \n",
    "        x = PIL.Image.open('data/cifar10/%s' % filename)\n",
    "        \n",
    "        x = torch.FloatTensor(np.array(x)) / 255\n",
    "        \n",
    "        x = x.permute(2, 0, 1)\n",
    "        \n",
    "        y = int(filename[0])\n",
    "        \n",
    "        xs.append(x)\n",
    "        ys.append(y)\n",
    "        \n",
    "    return xs, ys\n",
    "\n",
    "xs, ys = load_data()\n",
    "\n",
    "len(xs), len(ys), xs[0].shape, ys[0]"
   ]
  },
  {
   "cell_type": "code",
   "execution_count": 3,
   "id": "618cb0f5",
   "metadata": {},
   "outputs": [
    {
     "data": {
      "text/plain": [
       "(60000, torch.Size([3, 32, 32]), 6)"
      ]
     },
     "execution_count": 3,
     "metadata": {},
     "output_type": "execute_result"
    }
   ],
   "source": [
    "class Dataset(torch.utils.data.Dataset):\n",
    "    def __len__(self):\n",
    "        return len(xs)\n",
    "    def __getitem__(self, i):\n",
    "        return xs[i], ys[i]\n",
    "    \n",
    "dataset = Dataset()\n",
    "x, y = dataset[0]\n",
    "\n",
    "len(dataset), x.shape, y"
   ]
  },
  {
   "cell_type": "code",
   "execution_count": 4,
   "id": "7512a71b",
   "metadata": {},
   "outputs": [
    {
     "data": {
      "text/plain": [
       "(7500, torch.Size([8, 3, 32, 32]), tensor([2, 9, 9, 7, 9, 2, 4, 8]))"
      ]
     },
     "execution_count": 4,
     "metadata": {},
     "output_type": "execute_result"
    }
   ],
   "source": [
    "loader = torch.utils.data.DataLoader(dataset,\n",
    "                                    batch_size=8,\n",
    "                                    shuffle=True,\n",
    "                                    drop_last=True)\n",
    "x, y = next(iter(loader))\n",
    "\n",
    "len(loader), x.shape, y"
   ]
  },
  {
   "cell_type": "code",
   "execution_count": 8,
   "id": "9247e331",
   "metadata": {},
   "outputs": [
    {
     "data": {
      "text/plain": [
       "torch.Size([8, 10])"
      ]
     },
     "execution_count": 8,
     "metadata": {},
     "output_type": "execute_result"
    }
   ],
   "source": [
    " class Model(torch.nn.Module):\n",
    "    def __init__(self):\n",
    "        super().__init__()\n",
    "        \n",
    "        self.cnn1 = torch.nn.Conv2d(in_channels=3,\n",
    "                                    out_channels=16,\n",
    "                                    kernel_size=5,\n",
    "                                    stride=2,\n",
    "                                    padding=0)\n",
    "        self.cnn2 = torch.nn.Conv2d(in_channels=16,\n",
    "                                    out_channels=32,\n",
    "                                    kernel_size=3,\n",
    "                                    stride=1,\n",
    "                                    padding=1)\n",
    "        self.cnn3 = torch.nn.Conv2d(in_channels=32,\n",
    "                                    out_channels=128,\n",
    "                                    kernel_size=7,\n",
    "                                    stride=1,\n",
    "                                    padding=0)\n",
    "        \n",
    "        self.pool = torch.nn.MaxPool2d(kernel_size=2, stride=2)\n",
    "        self.relu = torch.nn.ReLU()\n",
    "        self.fc = torch.nn.Linear(in_features=128, out_features=10)\n",
    "\n",
    "    def forward(self, x):\n",
    "        x = self.cnn1(x)\n",
    "        x = self.relu(x)\n",
    "\n",
    "        x = self.cnn2(x)\n",
    "        x = self.relu(x)\n",
    "\n",
    "        x = self.pool(x)\n",
    "\n",
    "        x = self.cnn3(x)\n",
    "        x = self.relu(x)\n",
    "\n",
    "        x = x.flatten(start_dim=1)\n",
    "\n",
    "        return self.fc(x)\n",
    "    \n",
    "model = Model()\n",
    "model(torch.randn(8, 3, 32, 32)).shape"
   ]
  },
  {
   "cell_type": "code",
   "execution_count": null,
   "id": "bcc64f93",
   "metadata": {},
   "outputs": [],
   "source": [
    "def train():\n",
    "    optimizer = torch.optim.Adam(model.parameters(), lr=1e-3)\n",
    "    loss_fun = torch.nn.CrossEntropyLoss()\n",
    "    model.train()\n",
    "\n",
    "    for epoch in range(5):\n",
    "        for i, (x, y) in enumerate(loader):\n",
    "            out = model(x)\n",
    "            loss = loss_fun(out, y)\n",
    "\n",
    "            loss.backward()\n",
    "            optimizer.step()\n",
    "            optimizer.zero_grad()\n",
    "\n",
    "            if i % 2000 == 0:\n",
    "                acc = (out.argmax(dim=1) == y).sum().item() / len(y)\n",
    "                print(epoch, i, loss.item(), acc)\n",
    "\n",
    "    torch.save(model, 'model/3.model')\n",
    "\n",
    "\n",
    "train()"
   ]
  }
 ],
 "metadata": {
  "kernelspec": {
   "display_name": "Python 3 (ipykernel)",
   "language": "python",
   "name": "python3"
  },
  "language_info": {
   "codemirror_mode": {
    "name": "ipython",
    "version": 3
   },
   "file_extension": ".py",
   "mimetype": "text/x-python",
   "name": "python",
   "nbconvert_exporter": "python",
   "pygments_lexer": "ipython3",
   "version": "3.11.5"
  }
 },
 "nbformat": 4,
 "nbformat_minor": 5
}
