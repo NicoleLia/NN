{
 "cells": [
  {
   "cell_type": "code",
   "execution_count": 2,
   "id": "a7c9183f",
   "metadata": {},
   "outputs": [
    {
     "data": {
      "text/plain": [
       "(60000, 60000, torch.Size([3, 32, 32]), 6)"
      ]
     },
     "execution_count": 2,
     "metadata": {},
     "output_type": "execute_result"
    }
   ],
   "source": [
    "import torch\n",
    "\n",
    "def load_data():\n",
    "    import PIL.Image\n",
    "    import numpy as np\n",
    "    import os\n",
    "    \n",
    "    xs = []\n",
    "    ys = []\n",
    "    \n",
    "    for filename in os.listdir('data/cifar10'):\n",
    "        if not filename.endswith('.jpg'):\n",
    "            continue\n",
    "        \n",
    "        x = PIL.Image.open('data/cifar10/%s' % filename)\n",
    "        \n",
    "        x = torch.FloatTensor(np.array(x)) / 255\n",
    "        \n",
    "        x = x.permute(2, 0, 1)\n",
    "        \n",
    "        y = int(filename[0])\n",
    "        \n",
    "        xs.append(x)\n",
    "        ys.append(y)\n",
    "        \n",
    "    return xs, ys\n",
    "\n",
    "xs, ys = load_data()\n",
    "\n",
    "len(xs), len(ys), xs[0].shape, ys[0]"
   ]
  },
  {
   "cell_type": "code",
   "execution_count": 3,
   "id": "f1d5af86",
   "metadata": {},
   "outputs": [
    {
     "data": {
      "text/plain": [
       "(60000, torch.Size([3, 32, 32]), 6)"
      ]
     },
     "execution_count": 3,
     "metadata": {},
     "output_type": "execute_result"
    }
   ],
   "source": [
    "class Dataset(torch.utils.data.Dataset):\n",
    "    def __len__(self):\n",
    "        return len(xs)\n",
    "    def __getitem__(self, i):\n",
    "        return xs[i], ys[i]\n",
    "    \n",
    "dataset = Dataset()\n",
    "x, y = dataset[0]\n",
    "\n",
    "len(dataset), x.shape, y"
   ]
  },
  {
   "cell_type": "code",
   "execution_count": 4,
   "id": "516c22a1",
   "metadata": {},
   "outputs": [
    {
     "data": {
      "text/plain": [
       "(7500, torch.Size([8, 3, 32, 32]), tensor([2, 9, 9, 7, 9, 2, 4, 8]))"
      ]
     },
     "execution_count": 4,
     "metadata": {},
     "output_type": "execute_result"
    }
   ],
   "source": [
    "loader = torch.utils.data.DataLoader(dataset,\n",
    "                                    batch_size=8,\n",
    "                                    shuffle=True,\n",
    "                                    drop_last=True)\n",
    "x, y = next(iter(loader))\n",
    "\n",
    "len(loader), x.shape, y"
   ]
  },
  {
   "cell_type": "code",
   "execution_count": 8,
   "id": "6d684073",
   "metadata": {},
   "outputs": [
    {
     "data": {
      "text/plain": [
       "torch.Size([8, 10])"
      ]
     },
     "execution_count": 8,
     "metadata": {},
     "output_type": "execute_result"
    }
   ],
   "source": [
    " class Model(torch.nn.Module):\n",
    "    def __init__(self):\n",
    "        super().__init__()\n",
    "        \n",
    "        self.cnn1 = torch.nn.Conv2d(in_channels=3,\n",
    "                                    out_channels=16,\n",
    "                                    kernel_size=5,\n",
    "                                    stride=2,\n",
    "                                    padding=0)\n",
    "        self.cnn2 = torch.nn.Conv2d(in_channels=16,\n",
    "                                    out_channels=32,\n",
    "                                    kernel_size=3,\n",
    "                                    stride=1,\n",
    "                                    padding=1)\n",
    "        self.cnn3 = torch.nn.Conv2d(in_channels=32,\n",
    "                                    out_channels=128,\n",
    "                                    kernel_size=7,\n",
    "                                    stride=1,\n",
    "                                    padding=0)\n",
    "        \n",
    "        self.pool = torch.nn.MaxPool2d(kernel_size=2, stride=2)\n",
    "        self.relu = torch.nn.ReLU()\n",
    "        self.fc = torch.nn.Linear(in_features=128, out_features=10)\n",
    "\n",
    "    def forward(self, x):\n",
    "        x = self.cnn1(x)\n",
    "        x = self.relu(x)\n",
    "\n",
    "        x = self.cnn2(x)\n",
    "        x = self.relu(x)\n",
    "\n",
    "        x = self.pool(x)\n",
    "\n",
    "        x = self.cnn3(x)\n",
    "        x = self.relu(x)\n",
    "\n",
    "        x = x.flatten(start_dim=1)\n",
    "\n",
    "        return self.fc(x)\n",
    "    \n",
    "model = Model()\n",
    "model(torch.randn(8, 3, 32, 32)).shape"
   ]
  },
  {
   "cell_type": "code",
   "execution_count": 9,
   "id": "077d83de",
   "metadata": {},
   "outputs": [
    {
     "name": "stdout",
     "output_type": "stream",
     "text": [
      "0 0 2.3080222606658936 0.125\n",
      "0 2000 1.7882035970687866 0.25\n",
      "0 4000 1.4761797189712524 0.375\n",
      "0 6000 1.4885742664337158 0.25\n",
      "1 0 0.8778889179229736 0.75\n",
      "1 2000 1.161247968673706 0.5\n",
      "1 4000 1.0296813249588013 0.5\n",
      "1 6000 1.4031336307525635 0.625\n",
      "2 0 0.8329468369483948 0.75\n",
      "2 2000 1.3011161088943481 0.625\n",
      "2 4000 0.7739822864532471 0.75\n",
      "2 6000 1.3758182525634766 0.375\n",
      "3 0 1.3978806734085083 0.75\n",
      "3 2000 0.7546510100364685 0.75\n",
      "3 4000 0.534713864326477 0.75\n",
      "3 6000 0.7918781638145447 0.75\n",
      "4 0 1.0472137928009033 0.625\n",
      "4 2000 0.8900766372680664 0.625\n",
      "4 4000 1.5932656526565552 0.5\n",
      "4 6000 0.5175949931144714 0.75\n"
     ]
    }
   ],
   "source": [
    "def train():\n",
    "    optimizer = torch.optim.Adam(model.parameters(), lr=1e-3)\n",
    "    loss_fun = torch.nn.CrossEntropyLoss()\n",
    "    model.train()\n",
    "\n",
    "    for epoch in range(5):\n",
    "        for i, (x, y) in enumerate(loader):\n",
    "            out = model(x)\n",
    "            loss = loss_fun(out, y)\n",
    "\n",
    "            loss.backward()\n",
    "            optimizer.step()\n",
    "            optimizer.zero_grad()\n",
    "\n",
    "            if i % 2000 == 0:\n",
    "                acc = (out.argmax(dim=1) == y).sum().item() / len(y)\n",
    "                print(epoch, i, loss.item(), acc)\n",
    "\n",
    "    torch.save(model, 'model/3.model')\n",
    "\n",
    "\n",
    "train()"
   ]
  },
  {
   "cell_type": "code",
   "execution_count": 12,
   "id": "2aed1964",
   "metadata": {},
   "outputs": [
    {
     "name": "stdout",
     "output_type": "stream",
     "text": [
      "tensor([0, 4, 2, 2, 6, 5, 7, 3])\n",
      "tensor([5, 3, 1, 4, 7, 6, 7, 7])\n",
      "tensor([4, 9, 8, 0, 0, 6, 6, 4])\n",
      "tensor([4, 6, 9, 3, 4, 8, 6, 9])\n",
      "tensor([7, 3, 6, 1, 4, 1, 8, 4])\n",
      "tensor([3, 1, 0, 5, 1, 1, 1, 6])\n",
      "tensor([6, 0, 4, 6, 7, 4, 6, 9])\n",
      "tensor([9, 0, 4, 3, 6, 0, 4, 1])\n",
      "tensor([0, 2, 0, 5, 5, 1, 3, 4])\n",
      "tensor([1, 3, 6, 5, 0, 9, 9, 2])\n",
      "tensor([8, 1, 7, 5, 6, 8, 7, 6])\n",
      "tensor([4, 4, 6, 7, 4, 7, 2, 5])\n",
      "tensor([2, 4, 3, 8, 0, 4, 3, 7])\n",
      "tensor([1, 9, 6, 0, 1, 5, 5, 8])\n",
      "tensor([4, 4, 8, 4, 9, 4, 4, 4])\n",
      "tensor([0, 0, 8, 3, 1, 1, 0, 5])\n",
      "tensor([5, 4, 0, 9, 7, 6, 0, 3])\n",
      "tensor([2, 2, 4, 4, 5, 3, 4, 3])\n",
      "tensor([9, 2, 7, 1, 6, 5, 4, 8])\n",
      "tensor([9, 7, 4, 3, 1, 4, 7, 0])\n",
      "tensor([7, 1, 2, 9, 9, 9, 3, 7])\n",
      "tensor([5, 3, 7, 4, 4, 4, 7, 3])\n",
      "tensor([7, 5, 3, 4, 1, 3, 4, 8])\n",
      "tensor([0, 6, 6, 1, 7, 5, 5, 5])\n",
      "tensor([5, 0, 7, 5, 1, 4, 5, 6])\n",
      "tensor([4, 0, 7, 9, 9, 7, 3, 7])\n",
      "tensor([1, 8, 2, 4, 0, 4, 0, 8])\n",
      "tensor([1, 3, 2, 7, 1, 3, 0, 6])\n",
      "tensor([8, 7, 4, 9, 3, 5, 8, 0])\n",
      "tensor([9, 7, 5, 3, 1, 6, 4, 5])\n",
      "tensor([7, 0, 1, 2, 7, 0, 6, 7])\n",
      "tensor([1, 3, 4, 0, 4, 7, 7, 7])\n",
      "tensor([9, 5, 8, 6, 9, 4, 0, 3])\n",
      "tensor([4, 2, 9, 5, 4, 0, 3, 8])\n",
      "tensor([7, 1, 7, 4, 6, 3, 6, 4])\n",
      "tensor([6, 0, 7, 2, 7, 2, 7, 2])\n",
      "tensor([9, 4, 9, 0, 5, 9, 4, 5])\n",
      "tensor([8, 8, 9, 5, 8, 3, 0, 2])\n",
      "tensor([3, 8, 0, 0, 1, 9, 8, 2])\n",
      "tensor([1, 5, 3, 7, 2, 4, 4, 7])\n",
      "tensor([2, 6, 7, 8, 4, 7, 8, 2])\n",
      "tensor([6, 8, 7, 4, 1, 6, 9, 6])\n",
      "tensor([7, 0, 5, 5, 4, 4, 4, 4])\n",
      "tensor([0, 4, 7, 9, 0, 5, 1, 6])\n",
      "tensor([5, 1, 1, 7, 6, 4, 9, 4])\n",
      "tensor([4, 4, 2, 8, 8, 5, 7, 9])\n",
      "tensor([4, 3, 9, 0, 3, 7, 8, 8])\n",
      "tensor([5, 4, 4, 3, 4, 2, 1, 7])\n",
      "tensor([1, 1, 5, 7, 8, 2, 7, 4])\n",
      "tensor([9, 8, 4, 6, 6, 1, 1, 9])\n",
      "tensor([2, 0, 8, 1, 7, 9, 4, 7])\n",
      "tensor([6, 7, 0, 4, 9, 5, 0, 3])\n",
      "tensor([4, 9, 2, 5, 4, 7, 5, 8])\n",
      "tensor([6, 9, 7, 7, 0, 4, 5, 5])\n",
      "tensor([2, 1, 5, 5, 8, 1, 4, 4])\n",
      "tensor([1, 6, 9, 6, 1, 1, 2, 4])\n",
      "tensor([7, 3, 4, 8, 4, 4, 7, 2])\n",
      "tensor([7, 5, 5, 7, 2, 9, 4, 4])\n",
      "tensor([1, 0, 8, 8, 0, 5, 8, 4])\n",
      "tensor([8, 0, 7, 1, 4, 0, 8, 3])\n",
      "tensor([7, 0, 8, 9, 7, 1, 1, 6])\n",
      "tensor([3, 3, 4, 7, 3, 2, 3, 8])\n",
      "tensor([2, 9, 7, 3, 7, 3, 5, 6])\n",
      "tensor([6, 9, 9, 7, 4, 2, 8, 3])\n",
      "tensor([7, 5, 7, 3, 9, 7, 9, 0])\n",
      "tensor([3, 5, 1, 8, 8, 4, 4, 7])\n",
      "tensor([4, 9, 6, 8, 2, 5, 2, 2])\n",
      "tensor([4, 6, 5, 4, 8, 0, 9, 8])\n",
      "tensor([1, 3, 5, 2, 9, 0, 1, 0])\n",
      "tensor([6, 0, 3, 1, 2, 5, 0, 5])\n",
      "tensor([5, 1, 0, 4, 8, 4, 8, 8])\n",
      "tensor([1, 8, 8, 7, 1, 3, 6, 8])\n",
      "tensor([4, 3, 0, 9, 8, 4, 4, 9])\n",
      "tensor([6, 9, 6, 8, 5, 0, 3, 3])\n",
      "tensor([4, 7, 9, 8, 6, 2, 1, 8])\n",
      "tensor([7, 3, 3, 6, 1, 8, 8, 8])\n",
      "tensor([9, 0, 5, 2, 6, 4, 6, 7])\n",
      "tensor([7, 6, 8, 3, 9, 5, 0, 4])\n",
      "tensor([2, 9, 2, 0, 1, 7, 1, 7])\n",
      "tensor([9, 8, 6, 0, 8, 2, 1, 1])\n",
      "tensor([9, 4, 1, 8, 4, 5, 8, 0])\n",
      "tensor([2, 0, 6, 9, 1, 7, 2, 9])\n",
      "tensor([4, 8, 2, 0, 8, 5, 0, 1])\n",
      "tensor([9, 8, 5, 5, 4, 3, 2, 1])\n",
      "tensor([3, 3, 7, 5, 5, 9, 1, 1])\n",
      "tensor([4, 7, 0, 8, 0, 7, 8, 1])\n",
      "tensor([4, 7, 0, 1, 1, 4, 3, 2])\n",
      "tensor([5, 1, 7, 2, 6, 0, 4, 6])\n",
      "tensor([4, 4, 9, 8, 4, 1, 2, 5])\n",
      "tensor([4, 2, 1, 2, 0, 5, 6, 3])\n",
      "tensor([7, 1, 1, 9, 2, 1, 3, 1])\n",
      "tensor([7, 9, 1, 7, 4, 2, 0, 2])\n",
      "tensor([7, 9, 2, 7, 0, 3, 9, 1])\n",
      "tensor([6, 3, 4, 8, 4, 2, 4, 6])\n",
      "tensor([7, 9, 6, 6, 6, 7, 4, 8])\n",
      "tensor([3, 3, 9, 5, 5, 5, 3, 0])\n",
      "tensor([9, 7, 4, 6, 8, 6, 0, 6])\n",
      "tensor([2, 0, 8, 6, 6, 0, 8, 3])\n",
      "tensor([6, 5, 3, 2, 3, 0, 2, 5])\n",
      "tensor([8, 3, 0, 4, 3, 9, 4, 1])\n",
      "0.70625\n"
     ]
    }
   ],
   "source": [
    "@torch.no_grad()\n",
    "def test():\n",
    "    model = torch.load('model/3.model')\n",
    "    model.eval()\n",
    "\n",
    "    correct = 0\n",
    "    total = 0\n",
    "    for i in range(100):\n",
    "        x, y = next(iter(loader))\n",
    "\n",
    "        out = model(x).argmax(dim=1)\n",
    "        print(out)\n",
    "\n",
    "        correct += (out == y).sum().item()\n",
    "        total += len(y)\n",
    "\n",
    "    print(correct / total)\n",
    "\n",
    "\n",
    "test()"
   ]
  },
  {
   "cell_type": "code",
   "execution_count": null,
   "id": "52ae91e2",
   "metadata": {},
   "outputs": [],
   "source": []
  }
 ],
 "metadata": {
  "kernelspec": {
   "display_name": "Python 3 (ipykernel)",
   "language": "python",
   "name": "python3"
  },
  "language_info": {
   "codemirror_mode": {
    "name": "ipython",
    "version": 3
   },
   "file_extension": ".py",
   "mimetype": "text/x-python",
   "name": "python",
   "nbconvert_exporter": "python",
   "pygments_lexer": "ipython3",
   "version": "3.11.5"
  }
 },
 "nbformat": 4,
 "nbformat_minor": 5
}
