{
 "cells": [
  {
   "cell_type": "code",
   "execution_count": 4,
   "id": "932f14d3",
   "metadata": {},
   "outputs": [
    {
     "data": {
      "text/plain": [
       "(500, (tensor([0.1275, 0.3408]), 0))"
      ]
     },
     "execution_count": 4,
     "metadata": {},
     "output_type": "execute_result"
    }
   ],
   "source": [
    "def get_rectangle():\n",
    "    import random\n",
    "    width = random.random()\n",
    "    height = random.random()\n",
    "    fat = int(width >= height)\n",
    "    return width, height, fat\n",
    "\n",
    "import torch\n",
    "from torch.utils.data import Dataset\n",
    "\n",
    "class Dataset(Dataset):\n",
    "    def __inti__(self):\n",
    "        pass\n",
    "    def __len__(self):\n",
    "        return 500\n",
    "    def __getitem__(self, i):\n",
    "        width, heigth, fat = get_rectangle()\n",
    "        x = torch.FloatTensor([width, heigth])\n",
    "        y = fat\n",
    "        return x,y\n",
    "    \n",
    "dataset = Dataset()\n",
    "len(dataset), dataset[0]"
   ]
  },
  {
   "cell_type": "code",
   "execution_count": 13,
   "id": "9f2bfee9",
   "metadata": {},
   "outputs": [
    {
     "data": {
      "text/plain": [
       "(62,\n",
       " [tensor([[0.1183, 0.7285],\n",
       "          [0.3232, 0.5363],\n",
       "          [0.0819, 0.2085],\n",
       "          [0.5961, 0.5661],\n",
       "          [0.3091, 0.7646],\n",
       "          [0.4269, 0.1226],\n",
       "          [0.1948, 0.1928],\n",
       "          [0.2074, 0.2608]]),\n",
       "  tensor([0, 0, 0, 1, 0, 1, 1, 0])])"
      ]
     },
     "execution_count": 13,
     "metadata": {},
     "output_type": "execute_result"
    }
   ],
   "source": [
    "import torch.utils.data as DataLoader\n",
    "loader = torch.utils.data.DataLoader(dataset=dataset,\n",
    "                   batch_size=8,\n",
    "                   shuffle=True,\n",
    "                   drop_last=True)\n",
    "len(loader), next(iter(loader))"
   ]
  },
  {
   "cell_type": "code",
   "execution_count": 23,
   "id": "d2a91bc2",
   "metadata": {},
   "outputs": [
    {
     "data": {
      "text/plain": [
       "tensor([[0.5285, 0.4715],\n",
       "        [0.5494, 0.4506],\n",
       "        [0.4687, 0.5313],\n",
       "        [0.5079, 0.4921],\n",
       "        [0.5787, 0.4213],\n",
       "        [0.5777, 0.4223],\n",
       "        [0.5284, 0.4716],\n",
       "        [0.5417, 0.4583]], grad_fn=<SoftmaxBackward0>)"
      ]
     },
     "execution_count": 23,
     "metadata": {},
     "output_type": "execute_result"
    }
   ],
   "source": [
    "import torch.nn as nn\n",
    "class Model(nn.Module):\n",
    "    def __init__(self):\n",
    "        super().__init__()\n",
    "        \n",
    "        self.fc = nn.Sequential(\n",
    "            nn.Linear(in_features=2, out_features=32),\n",
    "            nn.ReLU(),\n",
    "            nn.Linear(in_features=32, out_features=32),\n",
    "            nn.ReLU(),\n",
    "            nn.Linear(in_features=32, out_features=2),\n",
    "            nn.Softmax(dim=1),\n",
    "        )\n",
    "        \n",
    "    def forward(self, x):\n",
    "        return self.fc(x)\n",
    "\n",
    "model = Model()\n",
    "model(torch.randn(8, 2)).shape\n",
    "model(torch.randn(8, 2))"
   ]
  },
  {
   "cell_type": "code",
   "execution_count": 31,
   "id": "8d0e30f8",
   "metadata": {},
   "outputs": [
    {
     "name": "stdout",
     "output_type": "stream",
     "text": [
      "0 0.3190913200378418 1.0\n",
      "20 0.3312150835990906 1.0\n",
      "40 0.315027117729187 1.0\n",
      "60 0.314820796251297 1.0\n",
      "80 0.3132622539997101 1.0\n"
     ]
    }
   ],
   "source": [
    "def train():\n",
    "    optimizer = torch.optim.Adam(model.parameters(), lr=1e-4)\n",
    "    \n",
    "    loss_fun = nn.CrossEntropyLoss()\n",
    "    \n",
    "    model.train()\n",
    "    \n",
    "    for epoch in range(100):\n",
    "        for i, (x, y) in enumerate(loader):\n",
    "            out = model(x)\n",
    "            \n",
    "            loss = loss_fun(out, y)\n",
    "            loss.backward()\n",
    "            optimizer.step()\n",
    "            optimizer.zero_grad()\n",
    "        if epoch % 20 == 0:\n",
    "            acc = (out.argmax(dim=1) == y).sum().item() / len(y)\n",
    "            print(epoch, loss.item(), acc)\n",
    "        \n",
    "    torch.save(model, 'model/1.model')\n",
    "\n",
    "train()"
   ]
  },
  {
   "cell_type": "code",
   "execution_count": 33,
   "id": "2cbbe222",
   "metadata": {},
   "outputs": [
    {
     "name": "stdout",
     "output_type": "stream",
     "text": [
      "tensor([1, 0, 0, 1, 0, 1, 0, 0]) tensor([1, 0, 0, 1, 0, 1, 0, 0])\n",
      "tensor([True, True, True, True, True, True, True, True])\n"
     ]
    }
   ],
   "source": [
    "@torch.no_grad()\n",
    "def test():\n",
    "    model = torch.load('model/1.model')\n",
    "    model.eval()\n",
    "    x, y = next(iter(loader))\n",
    "    out = model(x).argmax(dim=1)\n",
    "    print(out, y)\n",
    "    print(out == y)\n",
    "test()"
   ]
  },
  {
   "cell_type": "code",
   "execution_count": null,
   "id": "77cecfad",
   "metadata": {},
   "outputs": [],
   "source": []
  }
 ],
 "metadata": {
  "kernelspec": {
   "display_name": "Python 3 (ipykernel)",
   "language": "python",
   "name": "python3"
  },
  "language_info": {
   "codemirror_mode": {
    "name": "ipython",
    "version": 3
   },
   "file_extension": ".py",
   "mimetype": "text/x-python",
   "name": "python",
   "nbconvert_exporter": "python",
   "pygments_lexer": "ipython3",
   "version": "3.11.5"
  }
 },
 "nbformat": 4,
 "nbformat_minor": 5
}
